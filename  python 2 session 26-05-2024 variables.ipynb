{
 "cells": [
  {
   "cell_type": "code",
   "execution_count": 1,
   "id": "c2a412a5-7aa5-4b04-8dc5-6882089d00b1",
   "metadata": {},
   "outputs": [],
   "source": [
    "import  os # shift+enter    # if we find in python location in our pic we write\n",
    "                            # import os \n",
    "                            # os.getcwd()"
   ]
  },
  {
   "cell_type": "code",
   "execution_count": 2,
   "id": "0af0f75b-0773-4c83-9281-555160920f83",
   "metadata": {},
   "outputs": [
    {
     "data": {
      "text/plain": [
       "'C:\\\\Users\\\\HP\\\\Documents\\\\nareshIT\\\\Python'"
      ]
     },
     "execution_count": 2,
     "metadata": {},
     "output_type": "execute_result"
    }
   ],
   "source": [
    "os.getcwd()    # tab button "
   ]
  },
  {
   "cell_type": "markdown",
   "id": "cd0f3653-c8d8-47a4-9ab0-9c2fbd007ec3",
   "metadata": {},
   "source": [
    "## variables concept "
   ]
  },
  {
   "cell_type": "markdown",
   "id": "8caac9b5-2234-4b72-a633-08f46a5e03d3",
   "metadata": {},
   "source": [
    "- variables is used to store a value \n",
    "\n",
    "- variables can change their values\n",
    "\n",
    "- In python latest value will be consider \n",
    "\n",
    "- Python is a step by step process"
   ]
  },
  {
   "cell_type": "code",
   "execution_count": 2,
   "id": "aa6f363e-a8ac-471f-a04c-c2d7debe04d9",
   "metadata": {},
   "outputs": [
    {
     "data": {
      "text/plain": [
       "10"
      ]
     },
     "execution_count": 2,
     "metadata": {},
     "output_type": "execute_result"
    }
   ],
   "source": [
    "num=10\n",
    "num\n",
    "\n",
    "# its also know # symbol comment \n",
    "# value 10 stored in variable called 'num'"
   ]
  },
  {
   "cell_type": "code",
   "execution_count": null,
   "id": "fd69157a-82a4-4932-b336-bd593edcd46b",
   "metadata": {},
   "outputs": [],
   "source": []
  },
  {
   "cell_type": "code",
   "execution_count": 4,
   "id": "aa5f31fa-54f6-4c78-a5f9-28d59f4a5c6b",
   "metadata": {},
   "outputs": [
    {
     "data": {
      "text/plain": [
       "100"
      ]
     },
     "execution_count": 4,
     "metadata": {},
     "output_type": "execute_result"
    }
   ],
   "source": [
    "Num=100\n",
    "Num                           # whenever you run \n",
    "                              # new cell will be created\n",
    "                              # shift+enter (key)"
   ]
  },
  {
   "cell_type": "code",
   "execution_count": 8,
   "id": "0cf0cb82-c42d-4e05-ac20-d5edd9d51914",
   "metadata": {},
   "outputs": [],
   "source": [
    "number=100"
   ]
  },
  {
   "cell_type": "code",
   "execution_count": 9,
   "id": "30d5ad3e-77e3-46de-a470-cf22d425b0ff",
   "metadata": {},
   "outputs": [
    {
     "data": {
      "text/plain": [
       "100"
      ]
     },
     "execution_count": 9,
     "metadata": {},
     "output_type": "execute_result"
    }
   ],
   "source": [
    "number"
   ]
  },
  {
   "cell_type": "code",
   "execution_count": null,
   "id": "84901f22-9bab-42e3-a0eb-ffe676377bc3",
   "metadata": {},
   "outputs": [],
   "source": [
    "# num = 10\n",
    "# NUM = 100"
   ]
  },
  {
   "cell_type": "code",
   "execution_count": 1,
   "id": "97772c93-f54b-4c3b-8351-33c6dc0bfe59",
   "metadata": {},
   "outputs": [
    {
     "data": {
      "text/plain": [
       "200"
      ]
     },
     "execution_count": 1,
     "metadata": {},
     "output_type": "execute_result"
    }
   ],
   "source": [
    "NUMber = 200\n",
    "NUMber"
   ]
  },
  {
   "cell_type": "code",
   "execution_count": 12,
   "id": "e05d1d2a-350c-4d42-aea6-72487d4cc56d",
   "metadata": {},
   "outputs": [
    {
     "data": {
      "text/plain": [
       "10"
      ]
     },
     "execution_count": 12,
     "metadata": {},
     "output_type": "execute_result"
    }
   ],
   "source": [
    "Nu=10\n",
    "Nu"
   ]
  },
  {
   "cell_type": "code",
   "execution_count": 2,
   "id": "92c88379-52cf-48d6-a635-2dcb90c95157",
   "metadata": {},
   "outputs": [
    {
     "data": {
      "text/plain": [
       "300"
      ]
     },
     "execution_count": 2,
     "metadata": {},
     "output_type": "execute_result"
    }
   ],
   "source": [
    "number123=300\n",
    "number123"
   ]
  },
  {
   "cell_type": "code",
   "execution_count": 15,
   "id": "0b6a87a2-6b60-4348-9dd0-95aef3e18c7f",
   "metadata": {},
   "outputs": [
    {
     "data": {
      "text/plain": [
       "200"
      ]
     },
     "execution_count": 15,
     "metadata": {},
     "output_type": "execute_result"
    }
   ],
   "source": [
    "Number = 200\n",
    "Number "
   ]
  },
  {
   "cell_type": "code",
   "execution_count": 19,
   "id": "8d2f2b21-bcab-4694-a81a-f70a7b680b96",
   "metadata": {},
   "outputs": [
    {
     "ename": "SyntaxError",
     "evalue": "invalid decimal literal (3622487932.py, line 1)",
     "output_type": "error",
     "traceback": [
      "\u001b[1;36m  Cell \u001b[1;32mIn[19], line 1\u001b[1;36m\u001b[0m\n\u001b[1;33m    123number=400\u001b[0m\n\u001b[1;37m      ^\u001b[0m\n\u001b[1;31mSyntaxError\u001b[0m\u001b[1;31m:\u001b[0m invalid decimal literal\n"
     ]
    }
   ],
   "source": [
    "123number=400\n",
    "123number           # any variable not started numbers"
   ]
  },
  {
   "cell_type": "code",
   "execution_count": 21,
   "id": "01883c8b-5c8f-46ed-be88-b219b2716bc8",
   "metadata": {},
   "outputs": [
    {
     "ename": "NameError",
     "evalue": "name 'kajal' is not defined",
     "output_type": "error",
     "traceback": [
      "\u001b[1;31m---------------------------------------------------------------------------\u001b[0m",
      "\u001b[1;31mNameError\u001b[0m                                 Traceback (most recent call last)",
      "Cell \u001b[1;32mIn[21], line 1\u001b[0m\n\u001b[1;32m----> 1\u001b[0m kajal\n",
      "\u001b[1;31mNameError\u001b[0m: name 'kajal' is not defined"
     ]
    }
   ],
   "source": [
    "kajal "
   ]
  },
  {
   "cell_type": "code",
   "execution_count": 23,
   "id": "0390d12a-bb8a-44e3-9bc0-91070380e91d",
   "metadata": {},
   "outputs": [],
   "source": [
    "kajal=500"
   ]
  },
  {
   "cell_type": "code",
   "execution_count": 25,
   "id": "3bcf7932-9a1b-4d00-8898-a5811811e5f1",
   "metadata": {},
   "outputs": [
    {
     "data": {
      "text/plain": [
       "500"
      ]
     },
     "execution_count": 25,
     "metadata": {},
     "output_type": "execute_result"
    }
   ],
   "source": [
    "kajal"
   ]
  },
  {
   "cell_type": "code",
   "execution_count": 3,
   "id": "aca6c213-70fc-4237-87a4-9ddc7cb1d13b",
   "metadata": {},
   "outputs": [
    {
     "ename": "NameError",
     "evalue": "name 'number0ne' is not defined",
     "output_type": "error",
     "traceback": [
      "\u001b[1;31m---------------------------------------------------------------------------\u001b[0m",
      "\u001b[1;31mNameError\u001b[0m                                 Traceback (most recent call last)",
      "Cell \u001b[1;32mIn[3], line 2\u001b[0m\n\u001b[0;32m      1\u001b[0m numberone\u001b[38;5;241m=\u001b[39m\u001b[38;5;241m1\u001b[39m\n\u001b[1;32m----> 2\u001b[0m number0ne\n",
      "\u001b[1;31mNameError\u001b[0m: name 'number0ne' is not defined"
     ]
    }
   ],
   "source": [
    "number@one=1\n",
    "number@0ne"
   ]
  },
  {
   "cell_type": "code",
   "execution_count": 29,
   "id": "9ae1f066-0f6f-450d-af2a-a36e15be539c",
   "metadata": {},
   "outputs": [
    {
     "ename": "SyntaxError",
     "evalue": "invalid syntax (1964631659.py, line 1)",
     "output_type": "error",
     "traceback": [
      "\u001b[1;36m  Cell \u001b[1;32mIn[29], line 1\u001b[1;36m\u001b[0m\n\u001b[1;33m    number one=300 #\u001b[0m\n\u001b[1;37m           ^\u001b[0m\n\u001b[1;31mSyntaxError\u001b[0m\u001b[1;31m:\u001b[0m invalid syntax\n"
     ]
    }
   ],
   "source": [
    "number one=300 # "
   ]
  },
  {
   "cell_type": "code",
   "execution_count": 36,
   "id": "bef7164c-32f0-42fd-be8a-b2441fac4939",
   "metadata": {},
   "outputs": [
    {
     "data": {
      "text/plain": [
       "500"
      ]
     },
     "execution_count": 36,
     "metadata": {},
     "output_type": "execute_result"
    }
   ],
   "source": [
    "number_one=500\n",
    "number_one"
   ]
  },
  {
   "cell_type": "code",
   "execution_count": 38,
   "id": "3cecd162-28f7-4c68-9b5f-0a3936ff1ec5",
   "metadata": {},
   "outputs": [
    {
     "data": {
      "text/plain": [
       "10"
      ]
     },
     "execution_count": 38,
     "metadata": {},
     "output_type": "execute_result"
    }
   ],
   "source": [
    "_kajal=10\n",
    "_kajal"
   ]
  },
  {
   "cell_type": "code",
   "execution_count": 4,
   "id": "6c644644-facc-4649-a1d1-063abfc227d0",
   "metadata": {},
   "outputs": [
    {
     "data": {
      "text/plain": [
       "800"
      ]
     },
     "execution_count": 4,
     "metadata": {},
     "output_type": "execute_result"
    }
   ],
   "source": [
    "_= 800\n",
    "_"
   ]
  },
  {
   "cell_type": "code",
   "execution_count": 5,
   "id": "7a1d3cdb-8558-4ff2-8b0b-f6d2377946ce",
   "metadata": {},
   "outputs": [
    {
     "ename": "SyntaxError",
     "evalue": "invalid syntax (3092338201.py, line 1)",
     "output_type": "error",
     "traceback": [
      "\u001b[1;36m  Cell \u001b[1;32mIn[5], line 1\u001b[1;36m\u001b[0m\n\u001b[1;33m    if=700\u001b[0m\n\u001b[1;37m      ^\u001b[0m\n\u001b[1;31mSyntaxError\u001b[0m\u001b[1;31m:\u001b[0m invalid syntax\n"
     ]
    }
   ],
   "source": [
    "if=700\n",
    "if"
   ]
  },
  {
   "cell_type": "markdown",
   "id": "854e70c4-4881-45b9-90fb-089ca4696ba8",
   "metadata": {},
   "source": [
    "- variable are case sensitive( my_variables is diffrent from my_variables)\n",
    "\n",
    "- variable can be capital and small letters \n",
    "\n",
    "- variable does not allow underscore (_)\n",
    "\n",
    "- variable does not allow to start with number as prefix  \n",
    "\n",
    "- variable does not allow to space\n",
    "\n",
    "- variable can have numbers as suffix Ex: num123:\n",
    "\n",
    "- variable does not  contain any keywords\n",
    "\n",
    "- variables does not start with number\n",
    "\n",
    "- creating a variable simple use assignment operator(=) to assign a value to a variable."
   ]
  },
  {
   "cell_type": "code",
   "execution_count": 6,
   "id": "bbafd733-25eb-441c-b60a-5b465eeb6ac1",
   "metadata": {},
   "outputs": [
    {
     "ename": "SyntaxError",
     "evalue": "invalid syntax (3034632313.py, line 1)",
     "output_type": "error",
     "traceback": [
      "\u001b[1;36m  Cell \u001b[1;32mIn[6], line 1\u001b[1;36m\u001b[0m\n\u001b[1;33m    while = 800\u001b[0m\n\u001b[1;37m          ^\u001b[0m\n\u001b[1;31mSyntaxError\u001b[0m\u001b[1;31m:\u001b[0m invalid syntax\n"
     ]
    }
   ],
   "source": [
    "while = 800\n",
    "while"
   ]
  },
  {
   "cell_type": "code",
   "execution_count": 8,
   "id": "622d9021-63f2-418e-aa1a-ebc5fe770214",
   "metadata": {},
   "outputs": [
    {
     "data": {
      "text/plain": [
       "1000"
      ]
     },
     "execution_count": 8,
     "metadata": {},
     "output_type": "execute_result"
    }
   ],
   "source": [
    "k_a_j_a_L =1000\n",
    "k_a_j_a_L"
   ]
  },
  {
   "cell_type": "code",
   "execution_count": null,
   "id": "d397dc58-bcf2-49b0-aea4-192920df9f74",
   "metadata": {},
   "outputs": [],
   "source": []
  }
 ],
 "metadata": {
  "kernelspec": {
   "display_name": "Python 3 (ipykernel)",
   "language": "python",
   "name": "python3"
  },
  "language_info": {
   "codemirror_mode": {
    "name": "ipython",
    "version": 3
   },
   "file_extension": ".py",
   "mimetype": "text/x-python",
   "name": "python",
   "nbconvert_exporter": "python",
   "pygments_lexer": "ipython3",
   "version": "3.11.7"
  }
 },
 "nbformat": 4,
 "nbformat_minor": 5
}
