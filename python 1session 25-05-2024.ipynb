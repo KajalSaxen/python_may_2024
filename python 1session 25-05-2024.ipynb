{
 "cells": [
  {
   "cell_type": "markdown",
   "id": "62ce665a-2184-4412-85b3-4651e8943836",
   "metadata": {},
   "source": [
    "a =20\n",
    "b =30\n",
    "a+b\n",
    "\n",
    "# shift+enter (run program)"
   ]
  },
  {
   "cell_type": "code",
   "execution_count": 1,
   "id": "34307d97-484e-45c1-89a7-c51a5670890a",
   "metadata": {},
   "outputs": [],
   "source": [
    "# ctrl+plus"
   ]
  },
  {
   "cell_type": "code",
   "execution_count": 2,
   "id": "b392dca7-633f-4161-b10f-57268de9be19",
   "metadata": {},
   "outputs": [
    {
     "name": "stdout",
     "output_type": "stream",
     "text": [
      "0\n",
      "1\n",
      "2\n",
      "3\n",
      "4\n",
      "5\n",
      "6\n",
      "7\n",
      "8\n",
      "9\n"
     ]
    }
   ],
   "source": [
    "for i in range (10): \n",
    "    print(i)"
   ]
  },
  {
   "cell_type": "markdown",
   "id": "fbb5af93-b968-460e-8c63-740d8ece61cd",
   "metadata": {},
   "source": [
    "# if you see any *mark or black clr in kernel (busy) do not execute any cells \n",
    "- kernal is white : ready to\n",
    "- kernel is black : it is busy you need to wait\n",
    "- if you run program its not working  .... if kernel white then working\n",
    "- you see one triangle types symbol in black colors ..if you went stop the program you click it tiangle shape ..and kernel will stops "
   ]
  },
  {
   "cell_type": "markdown",
   "id": "5b238ac6-37ea-4802-a192-b86664140261",
   "metadata": {},
   "source": [
    "# python code execute steps by steps only \n"
   ]
  },
  {
   "cell_type": "markdown",
   "id": "6cfaf387-9b4b-43b6-b2a7-70c1836c0e35",
   "metadata": {},
   "source": [
    "Hello Python\n",
    "\n",
    "Herre the mode is code\n",
    "\n",
    "im able to see [] that is a code mode\n",
    "\n",
    "\n",
    "if i run this i will get error                        \n",
    "# which is code mode \n",
    "                                                        \n",
    "two option one [] second one is code mod\n",
    "i need select the cell then change code to markdown mode"
   ]
  },
  {
   "cell_type": "markdown",
   "id": "76480626-1021-41b3-a9a9-b9253991bbd1",
   "metadata": {},
   "source": [
    "# highlighted your point & how to change size in text \n",
    "\n",
    "- 1 we press you select markdown\n",
    "- 2 we write # before we write any name and the we go press esc+m\n",
    "- 3 we write ## (double hash )\n",
    "- 4 we can write ###### (6 hash working )\n",
    "- 5 we can't write 7 hash (its not working)"
   ]
  },
  {
   "cell_type": "markdown",
   "id": "9480482d-ae65-4daf-acbe-f299cedad75b",
   "metadata": {},
   "source": [
    "# python "
   ]
  },
  {
   "cell_type": "markdown",
   "id": "a92cc3cc-0936-4e2f-bfca-9b4f7bcda297",
   "metadata": {},
   "source": [
    "# Python"
   ]
  },
  {
   "cell_type": "markdown",
   "id": "a741432f-6d72-41d9-89eb-fa4a734e27f8",
   "metadata": {},
   "source": [
    "## python"
   ]
  },
  {
   "cell_type": "markdown",
   "id": "9198f648-5e42-4ff9-a355-60876dca7ea4",
   "metadata": {},
   "source": [
    "#### python"
   ]
  },
  {
   "cell_type": "markdown",
   "id": "5ae66158-c396-4a12-a2e5-57ee160de6b0",
   "metadata": {},
   "source": [
    "# python\n"
   ]
  },
  {
   "cell_type": "markdown",
   "id": "6760d21c-3fb7-4b8c-a89e-315b5f664dad",
   "metadata": {},
   "source": [
    "\n"
   ]
  },
  {
   "cell_type": "markdown",
   "id": "eb30413c-6b5a-493a-8755-3167b6ae8e3b",
   "metadata": {},
   "source": [
    "<img alt=\"Debugging Python C extensions with GDB | Red Hat Developer\" id=\"dimg_7\" src=\"data:image/jpeg;base64,/9j/4AAQSkZJRgABAQAAAQABAAD/2wCEAAkGBwgHBgkIBwgKCgkLDRYPDQwMDRsUFRAWIB0iIiAdHx8kKDQsJCYxJx8fLT0tMTU3Ojo6Iys/RD84QzQ5OjcBCgoKDQwNGg8PGjclHyU3Nzc3Nzc3Nzc3Nzc3Nzc3Nzc3Nzc3Nzc3Nzc3Nzc3Nzc3Nzc3Nzc3Nzc3Nzc3Nzc3N//AABEIAJQBDgMBIgACEQEDEQH/xAAcAAADAAIDAQAAAAAAAAAAAAAAAQIDBwQFBgj/xAA+EAACAQMDAgMEBggEBwAAAAAAAQIDBBEFBhIhMRNBUQdSYXEWIjKRksEUIzNCU3KBsRVis9EXJCVUgpOh/8QAGgEAAwEBAQEAAAAAAAAAAAAAAAECBAMFBv/EACQRAAMAAQQCAgIDAAAAAAAAAAABEQIDBBIxIUEFURQyExVS/9oADAMBAAIRAxEAPwDULYZAQ32C6HkfIkaAY8jTGkA4IWSsiyNdQgUTY1JrsNQyUoDgqTmTHmReEhNhxDkSpS94ypy94xJ9Q8QIFM6m115C8eXvHHchZCBTO68s/aE60mscjCAoFLc5e8HOXvEoAgUrnL1DnIkYQKPnL1Gpy9SR5CBR85e8PnL3iMjCBS/El7weJL3iB4CBSvEl7weJL3iRCgUyeJL3g8SXvEZBBB0vxJe8HiS94kACnGAAD2C6AaEMYFqOS1AmE8FOoUiaS4jXQhyyGShUvngHMx5AYinIWRDQNCowEMUHQAACCo8AABBUBiAIOjAACBQAACBQAQxQKNAABB0AAeGKBRDyUosHEUHSUPA4rqXlLsKDpwgArAvZXokYANCAAAtEjAAKhLDAY6ZGjNZU1VvranL7M60IteqclktImna6Ztq7vKUa1aSt6b7KSzJr5eR2tLadmvt3Fab+GEjZmwbPT73Uqyv6dKrOEE6VKok18ejJ9oNnYWmpUFYwp0pyg3Vp00kl6PHkzquCy4Q4t5Ncqa5+i2n+9V/EYKu1Ld/srmrH5pM9J8+5DOr08Tks8jwOqaVc6bL9alOm+1SHb5P0ZwTYl/Qhc2ValUWVKD7+uOhrrL6HDPCM0YZ8kMBAiIWMAAUFQGAZCBQAF1K4hApIdQaLWEkECk8WUoj5IXIIgKwhppGHkwyyaMzOaIciMgS2UiuQciQJKRhGmIBey/QwAY0IAAC0SAJAdvtzSP8AFLibq5VvS+213k/JI6Y4tuI55ZJKs6mKbeEm38Eciybo3lvVnCfGnVjKWI+SeTZFvbULaChbUoU4rsooy5fqd1o+2zM9a+IdJDdFjCXKCu4yz0aptfmE9z2M5OU/0pyfm6Tf5ncvuI6xkJro4dhqFC/hKdDxEovD8SPFnIZZDDz7F4vgx1v2NT+V/wBjXEaVSUU406kl6qDaNj1v2M/5X/Y9b7J2/oHp+Pfrf6sjzvkd1+NprNKmzaaX8mTVNFTUqf7SMofzLAvPsfTd/Y2uoW8ra+t6dxRmsONSOfufkaF3nt76Oa7Us6cpO2nHxbeUu/B+T+Kf5GTZ/IY7nJ4SM7622ekrTz7JXcy9COjwz0mZyorJSivUhS6dAc2FDyZMpClNZ7GJyFnOe4UIXyDJAE0cKDIhksAAQyWUgAQxMoAyAEjRiAQxey/QwEMaEADEWiQ+J7/aFBUdFpzx9arJzz8OyPAmyNvNPQ7Pj28P8zRofszNr/qc9klMmTUVybSSWXnyNRkQhM42mU9Z3FKb2/ZQdrCXF3lzJxpt+kemWdm9l7t7q/0r8EjHq77b6bmWRqw2urkqkcQhnO+he7f+/wBK/BIX0J3Y++oaXFeb4S6HP+z2v+yvw9b6Om1S6haWVSpJvk1xgl1cpPokkbH2RpVXRdqadY3Cca0KbnUi/wB2U5OTj/TODrNvbEpWF5DUNYunqF7T608x406T9VHr1+LPXng/K/IYbhLDDo9LabZ6XnIl/FZNce2mzU9N0+/jH61Gs6cpf5ZL/dI2R5niva5GP0Nqtvqrilj8SMHx+Tx3OE+zTrpPTdNY7A0yz1veOn6dqdN1bSr4jqQjOUHLEJNLK690jnVtY2LCtUpPZV5xhNwc1rFTPR4zgXsmx/xE0r0xWz/6pFXEfZ2rmu51twOfiScoJQSbz1R9Vl+x5ePRxdybctreOlX+2XeXematRqVLelWjmtRlTfGpCWOjw/P59+78xL6qy+mO6a7Hrrje0aOvaFX0izdjpOiNwt7dy5SlGTTqOT82+52V9tClde1GFrBJaLdf9SnVf2I23255fz6f+QLJ4qMfFM85t3bF/rWvWem1Le5tqdecVUrug34cWm1Ly748zmaLtef030/S9Xsbl6bWvnQcqsZU/Fis+axjOM9Gd1tndl/rXtYtrujdV6VlfXvFW6k1Hwoxagmvks/Nsw6Bq+p33tV063vb+4r0KWrT8OlUnmMPtLp/QTbBJHm7/b+pxu9RqWel3crChc1YRqRpScVFTaXXz6HTpppOPXPbHU9jdbx3BR3tVrQ1W4jCnqLoqgnin4aq8ePHt2/qehdhZaTv/e+p0bWlP/B7V3VrbtfVjVnGLcseibf3jWbXYuKNe3Gi6ra2avLnTLulatZ8WdGSjj1zj+5xaNCtcRqSt6NSr4ceU/Di5cV2yzvdP39uO01SF/c6jXvac5x/SLWq+VOtDPWPHss9uh7PT7aO090e0SlpDjCFnp6qW6ksqHLE0seicsL5A82gWKZre80fVbG2jdXum3VC2n9mrUpNR+84WT3nsz17V9X3ZT0jV76rfWGq0q9O6oXMucXilKSaXl1j5Gv7eTdKOerx3EmwaMgAMAAAwPDENMwAMfET7LEisEmWKWOw0IjDHxZaxnsDaR0RLEodMnu9o11V0aEPOjJwa/8Ap4NzO127rH+GXUvGy7ep0njvF+TR208ksjhq4t4mwHjyOp19Tr07PT6c3B311Tt3Jd0pSS6fedhRura4pqpQuKc4Ps1JHC1GUZatoHGcXjVKDwn/AJ4nbWymm2jNpYvmqjcVlaULGzo2dpTjSoUIKFOEV9lIzeQ33ZLPgMnybyfs+lXhASKdSEGuc4xb7KTxn7yPHo/xqf40Cwya8IdRTEyfHofxqf40S61H+NT/ABoXDP6Y6vsvz6mtfbVqCp6fYaZGWalaq6s1j92K/wB2j3Wq63pek2srjUL6hRgk8ZmnKT9Ix7yfwSZoTdmu1Nx63X1GUXTpPEKNKXeFNds/Hrl/P4HqfFbXPLWWo14Rn3Oqlg8UPZus0du7ns9WuaNWtSt+fKFLHJ8oOPTLS8zp5zU61WaTSnUlNJ+WW3+YmyGz6R4rs8yuQqfHg89Fg2Tea1V0/wBj9jTuqKhqV/GVjb1WsVP0NSy/kmsL4mvdNvq+m39C+tHBV6E+UHOClHPxTORr2u6luC8V1qtx41SMeMFGKjCC9IpdEjnljWUnEPbuqS0TXNP1SFPxJWdVVODf2l1TXzwz0K1/a9luyw1/SbTWOcLyVzc0q/h4UWn0h16vL8zxuWHr8RvFMSyaOXdXca+tVb9QkoTvJXCi+6TqcsemcHo7ne0o791DcVlZupZ30VSr2Vzj9bS4Ri4yxlfu5R5HI/IXBMfJnsbXVdiaXdw1PTdF1e4vKUudC0vK0fApzXZtrrJLy7/E4Wk7onRluevqsa1xd65aypupTxiM5Szl5fSOOyWTzeB8eguAcjuNkaxR23uew1a5pVa1K28RSp0scnypyh0y0u8kzpqdPiumceWS4JGbCSHx8ipgaaKikxzaEngTQ0Wor0DoiXMhyyJlJGMpzyiGIh9l+hsakSMaEx5DIgLRLGEXhiApEnIxFxy4pv5HN25hbm0fCS/5+h/qROtT6HI0+6VjqNneuLn+jXFOs4rvLjJSwvuLzTywc+hYxZI+o/N/MTMdpdUL61pXdpVjVoVoqdOcezT7GRnxGSeLjPYXR0uvbX0fcFSjV1a0VeVFONNuTWE+51cfZptWfSGlZfwnI9aznabXo0YzjUai85y/M1bfUzyzWHOIjUSSspr+59nG1adCq1piUowk19d5TSNCqnTwv1cPwo+nN6axaaXpN7f15qMFRlGKfecmmkl6nzGuyz0foez8Zlk+fJ3yY9xPE8Aowj1jGKfwQ8gB6hmAAABAA0hNYCeAAYRKkKgEFy6GSNMxRlgp1BoRm4xj3Im16GNyJyJsEilIOZIEUsfIM5Eu42SMAGupSjkkpGIkYNCfZS6EMQxiAAApMmAAAUIaY2yQLWQod/tnd+r7bfGwr8rdvMrasuUM+q9D32n+2G2kktR0urTljrKhNSX3PqaiAy6u00dV3JeTpjq54+zdz9rW3uP1aF9n08LH5nT6j7YFxcdM0mSfv3FRf2RqoMM44/G7deinuNRqHa6/uHU9wXCrapcyqKP7OmliEPkjqgKSN2GCxXHFRHFtt1kjwVgMnWIUEkNdBNk5FySCF5wJsnICeQQAACKEAAAKOAAYKUQgEjL4iwEAEgwPIm+hLhRS6FKWDEsstLJA4YhNgGCX2UuhADAdAYCAYhgADFAAARSYoPDHx+AJ9AyVUEGkPKIywyPkEH0GmSGRcghYsAuw8oXIUFgnGCskthRwAGkHEAgh4+A0hjCEMpIH3DIrAhWELkg6sXFg8gg+WRLLZcYF8UiHlQMai2UoFNpEOZNHCuKQm8EcyXIQxAAA+xroTEAAAAADEAAADAYAMQFIYAwBkAAgGIAACkLzGAAAvMAKQFoAAYCfcEAE0ARkSQAIC0kY2ACYBFik2AABDbJz1GADAAAAP//Z\" data-csiid=\"9\" data-atf=\"1\">"
   ]
  },
  {
   "cell_type": "markdown",
   "id": "6399063b-6e4a-4bf2-a66f-70abecfbdfed",
   "metadata": {},
   "source": [
    "# insert any images in python code\n",
    "\n",
    "- 1 first we go to chrome/ google\n",
    "- 2 type any images like i type google images\n",
    "- 3 open images\n",
    "- 4 click right in any images\n",
    "- 5 we got option inspect\n",
    "- 6 we click inspect\n",
    "- 7 we got image id\n",
    "- 8 then we press ctrl A\n",
    "- 9 then we press ctrl c\n",
    "- 10 then we come python code page like jupiter notebook\n",
    "- 11 we press ctrl v\n",
    "- 12 we press esc+m\n",
    "- 13 we press shift+ enter\n",
    "- 14 finally our images \n",
    "- 14 esc+y we back \n",
    "\n",
    "\n",
    "\n",
    " "
   ]
  },
  {
   "cell_type": "markdown",
   "id": "f7925d60-f0b5-4df4-8fba-45e9e5a22587",
   "metadata": {},
   "source": [
    "<img id=\"dimg_11\" src=\"data:image/jpeg;base64,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\" class=\"YQ4gaf\" height=\"225\" style=\"object-position:47% 30%\" width=\"225\" alt=\"A cute cat in pink basket and flowers\" data-csiid=\"21\" data-atf=\"1\">"
   ]
  },
  {
   "cell_type": "markdown",
   "id": "cba46dcf-2edf-4585-a1ff-9c1486fba209",
   "metadata": {},
   "source": [
    "<img src=\"https://t4.ftcdn.net/jpg/06/73/73/69/360_F_673736911_Qy4uhyOCCLWSBXdejvxNMgicPg1UM2Et.jpg\" jsaction=\"VQAsE\" class=\"sFlh5c pT0Scc iPVvYb\" style=\"max-width: 540px; width: 194px; height: 129px; margin: 0px;\" alt=\"Pink Cat Images – Browse 209,976 Stock Photos, Vectors, and Video | Adobe  Stock\" jsname=\"kn3ccd\" aria-hidden=\"false\">"
   ]
  },
  {
   "cell_type": "markdown",
   "id": "d644b792-61bb-40c1-be47-dab8f3b2aa31",
   "metadata": {},
   "source": [
    "<img alt=\"100+ Rose Flower Pictures | Download Free Images on Unsplash\" id=\"dimg_10\" src=\"data:image/jpeg;base64,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\" data-csiid=\"14\" data-atf=\"1\">"
   ]
  },
  {
   "cell_type": "markdown",
   "id": "4e306554-e95e-4cce-8d7a-66edfc9a69f3",
   "metadata": {},
   "source": [
    "<img class=\"XNo5Ab\" src=\"data:image/png;base64,iVBORw0KGgoAAAANSUhEUgAAABAAAAAQCAYAAAAf8/9hAAAAdElEQVR4AWP4//8/RZh6BgCZAkDsAMUNWDFCXgDFACCVAGKSiBPABgCRAYgiExuADAigwIAEkAENOBU8ePD/v4MDPgMa8BoABxs2/P+voECBAQcOkGwAwgsBAXi9gD8QBQQIBiLF0UhRQsKXlAuITcoDnxsBPl4957WudCUAAAAASUVORK5CYII=\" style=\"height:18px;width:18px\" alt=\"\" data-csiid=\"10\" data-atf=\"1\">"
   ]
  },
  {
   "cell_type": "markdown",
   "id": "7c5fc6eb-af7a-45fe-8169-d36218819900",
   "metadata": {},
   "source": [
    "- kajal"
   ]
  },
  {
   "cell_type": "markdown",
   "id": "b6877e0b-67a1-4706-a017-3d48e7523810",
   "metadata": {},
   "source": [
    "# kristy"
   ]
  },
  {
   "cell_type": "markdown",
   "id": "025d8284-cd96-46e2-b039-e93759b3dffc",
   "metadata": {},
   "source": [
    "# Bullet points\n",
    "\n",
    "- 1 step = hypen(-)\n",
    "- 2 step = you take a space after the -\n",
    "- 3 step = you creat a bulet points\n",
    "- 4 step = esc + m\n",
    "- 5 step = shift+enter\n"
   ]
  },
  {
   "cell_type": "markdown",
   "id": "583476f2-dbe4-4d9f-8def-906f4d97e05f",
   "metadata": {},
   "source": [
    "- kajal\n",
    "- manasa\n",
    "- karuna"
   ]
  },
  {
   "cell_type": "markdown",
   "id": "64cdaf11-f6a1-4625-82e9-16c64a854070",
   "metadata": {},
   "source": [
    "<div class=\"YtThumbnailHoverOverlayViewModelScrim YtThumbnailHoverOverlayViewModelStyleCover\"><yt-icon class=\"YtThumbnailHoverOverlayViewModelIcon\" style=\"\"><!--css-build:shady--><!--css-build:shady--><yt-icon-shape class=\"style-scope yt-icon\"><icon-shape class=\"yt-spec-icon-shape\"><div style=\"width: 100%; height: 100%; display: block; fill: currentcolor;\"><svg xmlns=\"http://www.w3.org/2000/svg\" enable-background=\"new 0 0 24 24\" height=\"24\" viewBox=\"0 0 24 24\" width=\"24\" focusable=\"false\" style=\"pointer-events: none; display: inherit; width: 100%; height: 100%;\"><path d=\"M12,9c1.65,0,3,1.35,3,3s-1.35,3-3,3s-3-1.35-3-3S10.35,9,12,9 M12,8c-2.21,0-4,1.79-4,4s1.79,4,4,4s4-1.79,4-4 S14.21,8,12,8L12,8z M14.59,4l2,2H21v12H3V6h4.41l2-2H14.59 M15,3H9L7,5H2v14h20V5h-5L15,3L15,3z\"></path></svg></div></icon-shape></yt-icon-shape></yt-icon></div>"
   ]
  },
  {
   "cell_type": "markdown",
   "id": "c4860b79-da26-4bf2-a6bb-f56196bbb26f",
   "metadata": {},
   "source": [
    "- kajal"
   ]
  },
  {
   "cell_type": "markdown",
   "id": "1e82ed6a-c5b8-42be-a9e4-cc8ea2351e0e",
   "metadata": {},
   "source": [
    "# Python "
   ]
  },
  {
   "cell_type": "markdown",
   "id": "64514e89-289b-42f8-913d-8ee5b2a25832",
   "metadata": {},
   "source": [
    "## Python \n",
    "\n"
   ]
  },
  {
   "cell_type": "markdown",
   "id": "f9456187-5719-44b1-a47b-5d201422e690",
   "metadata": {},
   "source": [
    "### python "
   ]
  },
  {
   "cell_type": "markdown",
   "id": "73f4747e-fb3c-4a89-8453-a7b1711c4d8d",
   "metadata": {},
   "source": [
    "#### pyhton"
   ]
  },
  {
   "cell_type": "markdown",
   "id": "d7042d9b-20e7-4391-880b-807cac455784",
   "metadata": {},
   "source": [
    "##### python"
   ]
  },
  {
   "cell_type": "markdown",
   "id": "5150864c-345d-4fb0-b759-45bf0a2b0eed",
   "metadata": {},
   "source": [
    "###### Python"
   ]
  },
  {
   "cell_type": "markdown",
   "id": "d62a061a-b698-47bd-a072-c9ac83d58442",
   "metadata": {},
   "source": [
    "- when Open jupyter we redirected edge & google chrome pages "
   ]
  },
  {
   "cell_type": "code",
   "execution_count": null,
   "id": "005f881c-6866-484f-9e6c-0ac94f054e7b",
   "metadata": {},
   "outputs": [],
   "source": []
  }
 ],
 "metadata": {
  "kernelspec": {
   "display_name": "Python 3 (ipykernel)",
   "language": "python",
   "name": "python3"
  },
  "language_info": {
   "codemirror_mode": {
    "name": "ipython",
    "version": 3
   },
   "file_extension": ".py",
   "mimetype": "text/x-python",
   "name": "python",
   "nbconvert_exporter": "python",
   "pygments_lexer": "ipython3",
   "version": "3.11.7"
  }
 },
 "nbformat": 4,
 "nbformat_minor": 5
}
